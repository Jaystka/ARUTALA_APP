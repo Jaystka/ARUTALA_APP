{
 "cells": [
  {
   "cell_type": "code",
   "execution_count": 2,
   "id": "55dde75f",
   "metadata": {},
   "outputs": [
    {
     "name": "stdout",
     "output_type": "stream",
     "text": [
      "^C\n"
     ]
    }
   ],
   "source": [
    "!python tools/train.py -c ppocr_config.yml"
   ]
  },
  {
   "cell_type": "code",
   "execution_count": 4,
   "id": "684e1855",
   "metadata": {},
   "outputs": [
    {
     "name": "stdout",
     "output_type": "stream",
     "text": [
      "[2025/04/29 19:53:28] ppocr WARNING: Skipping import of the encryption module.\n",
      "[2025/04/29 19:53:28] ppocr INFO: Architecture : \n",
      "[2025/04/29 19:53:28] ppocr INFO:     Backbone : \n",
      "[2025/04/29 19:53:28] ppocr INFO:         last_conv_stride : [1, 2]\n",
      "[2025/04/29 19:53:28] ppocr INFO:         last_pool_type : avg\n",
      "[2025/04/29 19:53:28] ppocr INFO:         name : MobileNetV1Enhance\n",
      "[2025/04/29 19:53:28] ppocr INFO:         scale : 0.5\n",
      "[2025/04/29 19:53:28] ppocr INFO:     Head : \n",
      "[2025/04/29 19:53:28] ppocr INFO:         fc_decay : 1e-05\n",
      "[2025/04/29 19:53:28] ppocr INFO:         name : CTCHead\n",
      "[2025/04/29 19:53:28] ppocr INFO:     Neck : \n",
      "[2025/04/29 19:53:28] ppocr INFO:         encoder_type : rnn\n",
      "[2025/04/29 19:53:28] ppocr INFO:         hidden_size : 96\n",
      "[2025/04/29 19:53:28] ppocr INFO:         name : SequenceEncoder\n",
      "[2025/04/29 19:53:28] ppocr INFO:     algorithm : CRNN\n",
      "[2025/04/29 19:53:28] ppocr INFO:     model_type : rec\n",
      "[2025/04/29 19:53:28] ppocr INFO: Eval : \n",
      "[2025/04/29 19:53:28] ppocr INFO:     dataset : \n",
      "[2025/04/29 19:53:28] ppocr INFO:         data_dir : dataset/\n",
      "[2025/04/29 19:53:28] ppocr INFO:         label_file_list : ['dataset/test.txt']\n",
      "[2025/04/29 19:53:28] ppocr INFO:         name : SimpleDataSet\n",
      "[2025/04/29 19:53:28] ppocr INFO:         transforms : \n",
      "[2025/04/29 19:53:28] ppocr INFO:             DecodeImage : \n",
      "[2025/04/29 19:53:28] ppocr INFO:                 channel_first : False\n",
      "[2025/04/29 19:53:28] ppocr INFO:                 img_mode : RGB\n",
      "[2025/04/29 19:53:28] ppocr INFO:             RecResizeImg : \n",
      "[2025/04/29 19:53:28] ppocr INFO:                 image_shape : [3, 32, 320]\n",
      "[2025/04/29 19:53:28] ppocr INFO:             CTCLabelEncode : \n",
      "[2025/04/29 19:53:28] ppocr INFO:                 max_text_length : 25\n",
      "[2025/04/29 19:53:28] ppocr INFO:             KeepKeys : \n",
      "[2025/04/29 19:53:28] ppocr INFO:                 keep_keys : ['image', 'label', 'length']\n",
      "[2025/04/29 19:53:28] ppocr INFO:     loader : \n",
      "[2025/04/29 19:53:28] ppocr INFO:         batch_size_per_card : 16\n",
      "[2025/04/29 19:53:28] ppocr INFO:         drop_last : False\n",
      "[2025/04/29 19:53:28] ppocr INFO:         num_workers : 0\n",
      "[2025/04/29 19:53:28] ppocr INFO:         shuffle : False\n",
      "[2025/04/29 19:53:28] ppocr INFO:         use_shared_memory : False\n",
      "[2025/04/29 19:53:28] ppocr INFO: Global : \n",
      "[2025/04/29 19:53:28] ppocr INFO:     cal_metric_during_train : False\n",
      "[2025/04/29 19:53:28] ppocr INFO:     character_dict_path : dataset/dict.txt\n",
      "[2025/04/29 19:53:28] ppocr INFO:     distributed : False\n",
      "[2025/04/29 19:53:28] ppocr INFO:     infer_img : dataset/train/img_083.jpg\n",
      "[2025/04/29 19:53:28] ppocr INFO:     pretrained_model : ./output/rec_jawa/latest\n",
      "[2025/04/29 19:53:28] ppocr INFO:     save_res_path : output/rec_jawa/predicts.txt\n",
      "[2025/04/29 19:53:28] ppocr INFO:     use_gpu : False\n",
      "[2025/04/29 19:53:28] ppocr INFO:     use_space_char : True\n",
      "[2025/04/29 19:53:28] ppocr INFO: Metric : \n",
      "[2025/04/29 19:53:28] ppocr INFO:     main_indicator : acc\n",
      "[2025/04/29 19:53:28] ppocr INFO:     name : RecMetric\n",
      "[2025/04/29 19:53:28] ppocr INFO: PostProcess : \n",
      "[2025/04/29 19:53:28] ppocr INFO:     name : CTCLabelDecode\n",
      "[2025/04/29 19:53:28] ppocr INFO: profiler_options : None\n",
      "[2025/04/29 19:53:28] ppocr INFO: train with paddle 2.6.2 and device Place(cpu)\n",
      "[2025/04/29 19:53:28] ppocr INFO: load pretrain successful from ./output/rec_jawa/latest\n",
      "[2025/04/29 19:53:28] ppocr INFO: infer_img: dataset/train/img_083.jpg\n",
      "[2025/04/29 19:53:28] ppocr INFO: \t result: ꧋ꦠꦠꦒꦒ꧉\t0.9848425984382629\n",
      "[2025/04/29 19:53:28] ppocr INFO: success!\n"
     ]
    }
   ],
   "source": [
    "!python tools/infer_rec.py -c ppocr_config_eval.yml -o Global.infer_img=\"dataset/train/img_083.jpg\" Global.pretrained_model=\"./output/rec_jawa/latest\""
   ]
  },
  {
   "cell_type": "code",
   "execution_count": null,
   "id": "f3c281b1",
   "metadata": {},
   "outputs": [],
   "source": []
  }
 ],
 "metadata": {
  "kernelspec": {
   "display_name": "ArutalaApp",
   "language": "python",
   "name": "python3"
  },
  "language_info": {
   "codemirror_mode": {
    "name": "ipython",
    "version": 3
   },
   "file_extension": ".py",
   "mimetype": "text/x-python",
   "name": "python",
   "nbconvert_exporter": "python",
   "pygments_lexer": "ipython3",
   "version": "3.11.11"
  }
 },
 "nbformat": 4,
 "nbformat_minor": 5
}
